{
 "cells": [
  {
   "cell_type": "code",
   "execution_count": 32,
   "metadata": {},
   "outputs": [
    {
     "name": "stdout",
     "output_type": "stream",
     "text": [
      "['chinh_tri' 'ktvhxh' 'quansu' 'tich_cuc' 'tieu_cuc' 'trung_tinh']\n",
      "[(0, 90), (1, 292), (2, 318)]\n"
     ]
    }
   ],
   "source": [
    "import pandas as pd\n",
    "from collections import Counter\n",
    "import numpy as np\n",
    "\n",
    "classes = np.load(\"/home/nguyenphuctoan/Vosint/Hierarchical-attention-networks-pytorch/classes.npy\")\n",
    "print(classes)\n",
    "df = pd.read_csv(\"/home/nguyenphuctoan/Vosint/Hierarchical-attention-networks-pytorch/dataset/plcx/train.csv\",names=['label','content'])\n",
    "print(sorted(Counter(df['label']).items()))"
   ]
  },
  {
   "cell_type": "code",
   "execution_count": 33,
   "metadata": {},
   "outputs": [],
   "source": [
    "train_label = df['label']\n",
    "train_content = df['content']"
   ]
  },
  {
   "cell_type": "code",
   "execution_count": 34,
   "metadata": {},
   "outputs": [
    {
     "name": "stdout",
     "output_type": "stream",
     "text": [
      "(700, 1)\n"
     ]
    }
   ],
   "source": [
    "assert len(train_label) == len(train_content)\n",
    "train_content = train_content.array.reshape(-1,1)\n",
    "print(train_content.shape)"
   ]
  },
  {
   "cell_type": "code",
   "execution_count": 35,
   "metadata": {},
   "outputs": [
    {
     "name": "stdout",
     "output_type": "stream",
     "text": [
      "Counter({2: 318, 1: 318, 0: 318})\n"
     ]
    }
   ],
   "source": [
    "from imblearn.over_sampling import RandomOverSampler\n",
    "\n",
    "ros = RandomOverSampler(random_state=0)\n",
    "\n",
    "X_resampled, y_resampled = ros.fit_resample(train_content, train_label)\n",
    "\n",
    "print(Counter(y_resampled))\n"
   ]
  },
  {
   "cell_type": "code",
   "execution_count": 40,
   "metadata": {},
   "outputs": [],
   "source": [
    "df_new = pd.DataFrame()\n",
    "df_new['label'] = y_resampled\n",
    "df_new['content'] = X_resampled\n",
    "df_new = df.sample(frac=1)\n",
    "df_new.to_csv(\"/home/nguyenphuctoan/Vosint/Hierarchical-attention-networks-pytorch/dataset/plcx/new_train.csv\",header=False,index=False)"
   ]
  }
 ],
 "metadata": {
  "kernelspec": {
   "display_name": "base",
   "language": "python",
   "name": "python3"
  },
  "language_info": {
   "codemirror_mode": {
    "name": "ipython",
    "version": 3
   },
   "file_extension": ".py",
   "mimetype": "text/x-python",
   "name": "python",
   "nbconvert_exporter": "python",
   "pygments_lexer": "ipython3",
   "version": "3.10.8"
  },
  "orig_nbformat": 4
 },
 "nbformat": 4,
 "nbformat_minor": 2
}
