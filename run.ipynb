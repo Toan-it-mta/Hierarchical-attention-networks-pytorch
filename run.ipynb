{
 "cells": [
  {
   "cell_type": "code",
   "execution_count": 16,
   "metadata": {},
   "outputs": [
    {
     "name": "stdout",
     "output_type": "stream",
     "text": [
      "33759\n"
     ]
    }
   ],
   "source": [
    "import os\n",
    "import json\n",
    "#Chuẩn bị dữ liệu\n",
    "VNTC_dataset_path = \"/home/nguyenphuctoan/Vosint/Hierarchical-attention-networks-pytorch/dataset/VNTC/Data/10Topics/Ver1.1/Train_Full/\"\n",
    "data = []\n",
    "for root,folders,files in os.walk(VNTC_dataset_path):\n",
    "    for file in files:\n",
    "        record = {}\n",
    "        pathfile = os.path.join(root,file)\n",
    "        f = open(pathfile,'r',encoding='utf-16')\n",
    "        context = f.readlines()\n",
    "        f.close()\n",
    "        record['context'] = \" \".join(context).strip().replace('\\n','')\n",
    "        record['labels']  = root.split('/')[-1]\n",
    "        data.append(record)\n",
    "# print(os.path.join(VNTC_dataset_path,'VNTC.json'))\n",
    "print(len(data))\n",
    "f = open(os.path.join(VNTC_dataset_path,'VNTC.json'),'w',encoding='utf-8')\n",
    "json.dump(data,f,ensure_ascii=False)\n",
    "f.close()"
   ]
  },
  {
   "cell_type": "code",
   "execution_count": 18,
   "metadata": {},
   "outputs": [],
   "source": [
    "import pandas as pd\n",
    "\n",
    "frame = pd.read_json(\"/home/nguyenphuctoan/Vosint/Hierarchical-attention-networks-pytorch/dataset/VNTC/Data/10Topics/Ver1.1/Train_Full/VNTC.json\",encoding='utf-8')\n",
    "frame[1:].to_csv(\"/home/nguyenphuctoan/Vosint/Hierarchical-attention-networks-pytorch/dataset/VNTC_csv/train.csv\",encoding='utf-8',index=False,header=False)\n",
    "\n",
    "frame = pd.read_json(\"/home/nguyenphuctoan/Vosint/Hierarchical-attention-networks-pytorch/dataset/VNTC/Data/10Topics/Ver1.1/Test_Full/VNTC.json\",encoding='utf-8')\n",
    "frame[1:].to_csv(\"/home/nguyenphuctoan/Vosint/Hierarchical-attention-networks-pytorch/dataset/VNTC_csv/test.csv\",encoding='utf-8',index=False,header=False)"
   ]
  },
  {
   "cell_type": "code",
   "execution_count": 3,
   "metadata": {},
   "outputs": [],
   "source": [
    "import pandas as pd\n",
    "frame = pd.read_csv('/home/nguyenphuctoan/Vosint/Hierarchical-attention-networks-pytorch/dataset/VNTC_csv/test.csv',encoding='utf-16')\n",
    "# frame[0]"
   ]
  },
  {
   "cell_type": "code",
   "execution_count": 9,
   "metadata": {},
   "outputs": [
    {
     "data": {
      "text/html": [
       "<div>\n",
       "<style scoped>\n",
       "    .dataframe tbody tr th:only-of-type {\n",
       "        vertical-align: middle;\n",
       "    }\n",
       "\n",
       "    .dataframe tbody tr th {\n",
       "        vertical-align: top;\n",
       "    }\n",
       "\n",
       "    .dataframe thead th {\n",
       "        text-align: right;\n",
       "    }\n",
       "</style>\n",
       "<table border=\"1\" class=\"dataframe\">\n",
       "  <thead>\n",
       "    <tr style=\"text-align: right;\">\n",
       "      <th></th>\n",
       "      <th>context</th>\n",
       "      <th>labels</th>\n",
       "    </tr>\n",
       "  </thead>\n",
       "  <tbody>\n",
       "    <tr>\n",
       "      <th>0</th>\n",
       "      <td>Bàn về lối sống của các ca sĩ hiện nay\\n Tôi đ...</td>\n",
       "      <td>Van hoa</td>\n",
       "    </tr>\n",
       "    <tr>\n",
       "      <th>1</th>\n",
       "      <td>Phim Hàn lôi du khách châu Á tới xứ kim chi\\n ...</td>\n",
       "      <td>Van hoa</td>\n",
       "    </tr>\n",
       "    <tr>\n",
       "      <th>2</th>\n",
       "      <td>Đạo diễn Công Ninh: 'Tôi chán sân khấu'\\n \"Các...</td>\n",
       "      <td>Van hoa</td>\n",
       "    </tr>\n",
       "    <tr>\n",
       "      <th>3</th>\n",
       "      <td>Ngọc Châu: 'Sân khấu không còn thiêng liêng'\\n...</td>\n",
       "      <td>Van hoa</td>\n",
       "    </tr>\n",
       "    <tr>\n",
       "      <th>4</th>\n",
       "      <td>Phan Huyền Thư: 'Lăng loàn trong thơ là đủ rồi...</td>\n",
       "      <td>Van hoa</td>\n",
       "    </tr>\n",
       "    <tr>\n",
       "      <th>...</th>\n",
       "      <td>...</td>\n",
       "      <td>...</td>\n",
       "    </tr>\n",
       "    <tr>\n",
       "      <th>50368</th>\n",
       "      <td>Sự đa dạng của loài chó\\n Mũi của chó hết sức ...</td>\n",
       "      <td>Khoa hoc</td>\n",
       "    </tr>\n",
       "    <tr>\n",
       "      <th>50369</th>\n",
       "      <td>Sự cô độc nằm trong gene bạn\\n Tình trạng cô đ...</td>\n",
       "      <td>Khoa hoc</td>\n",
       "    </tr>\n",
       "    <tr>\n",
       "      <th>50370</th>\n",
       "      <td>Australia giúp VN đảm bảo an ninh nguồn phóng ...</td>\n",
       "      <td>Khoa hoc</td>\n",
       "    </tr>\n",
       "    <tr>\n",
       "      <th>50371</th>\n",
       "      <td>Ăn kẹo giúp giảm stress\\n Ngậm mấy viên kẹo ng...</td>\n",
       "      <td>Khoa hoc</td>\n",
       "    </tr>\n",
       "    <tr>\n",
       "      <th>50372</th>\n",
       "      <td>Cá heo nước ngọt bên vực tuyệt chủng\\n Số lượn...</td>\n",
       "      <td>Khoa hoc</td>\n",
       "    </tr>\n",
       "  </tbody>\n",
       "</table>\n",
       "<p>50373 rows × 2 columns</p>\n",
       "</div>"
      ],
      "text/plain": [
       "                                                 context    labels\n",
       "0      Bàn về lối sống của các ca sĩ hiện nay\\n Tôi đ...   Van hoa\n",
       "1      Phim Hàn lôi du khách châu Á tới xứ kim chi\\n ...   Van hoa\n",
       "2      Đạo diễn Công Ninh: 'Tôi chán sân khấu'\\n \"Các...   Van hoa\n",
       "3      Ngọc Châu: 'Sân khấu không còn thiêng liêng'\\n...   Van hoa\n",
       "4      Phan Huyền Thư: 'Lăng loàn trong thơ là đủ rồi...   Van hoa\n",
       "...                                                  ...       ...\n",
       "50368  Sự đa dạng của loài chó\\n Mũi của chó hết sức ...  Khoa hoc\n",
       "50369  Sự cô độc nằm trong gene bạn\\n Tình trạng cô đ...  Khoa hoc\n",
       "50370  Australia giúp VN đảm bảo an ninh nguồn phóng ...  Khoa hoc\n",
       "50371  Ăn kẹo giúp giảm stress\\n Ngậm mấy viên kẹo ng...  Khoa hoc\n",
       "50372  Cá heo nước ngọt bên vực tuyệt chủng\\n Số lượn...  Khoa hoc\n",
       "\n",
       "[50373 rows x 2 columns]"
      ]
     },
     "execution_count": 9,
     "metadata": {},
     "output_type": "execute_result"
    }
   ],
   "source": [
    "frame"
   ]
  },
  {
   "cell_type": "code",
   "execution_count": 15,
   "metadata": {},
   "outputs": [
    {
     "ename": "NameError",
     "evalue": "name 'decode' is not defined",
     "output_type": "error",
     "traceback": [
      "\u001b[0;31m---------------------------------------------------------------------------\u001b[0m",
      "\u001b[0;31mNameError\u001b[0m                                 Traceback (most recent call last)",
      "Cell \u001b[0;32mIn[15], line 1\u001b[0m\n\u001b[0;32m----> 1\u001b[0m contexts \u001b[39m=\u001b[39m frame[\u001b[39m'\u001b[39m\u001b[39mcontext\u001b[39m\u001b[39m'\u001b[39m]\u001b[39m.\u001b[39mapply(decode(\u001b[39m'\u001b[39m\u001b[39mutf-16\u001b[39m\u001b[39m'\u001b[39m)\u001b[39m.\u001b[39mencode(\u001b[39m'\u001b[39m\u001b[39mutf-8\u001b[39m\u001b[39m'\u001b[39m))\n\u001b[1;32m      2\u001b[0m contexts\n",
      "\u001b[0;31mNameError\u001b[0m: name 'decode' is not defined"
     ]
    }
   ],
   "source": [
    "contexts = frame['context'].apply(decode('utf-16').encode('utf-8'))\n",
    "contexts"
   ]
  },
  {
   "cell_type": "code",
   "execution_count": null,
   "metadata": {},
   "outputs": [],
   "source": [
    "!pip install -r ./requirements.txt"
   ]
  },
  {
   "cell_type": "code",
   "execution_count": 7,
   "metadata": {},
   "outputs": [
    {
     "name": "stderr",
     "output_type": "stream",
     "text": [
      "[nltk_data] Downloading package punkt to\n",
      "[nltk_data]     /home/nguyenphuctoan/nltk_data...\n",
      "[nltk_data]   Unzipping tokenizers/punkt.zip.\n"
     ]
    },
    {
     "data": {
      "text/plain": [
       "True"
      ]
     },
     "execution_count": 7,
     "metadata": {},
     "output_type": "execute_result"
    }
   ],
   "source": [
    "import nltk\n",
    "nltk.download('punkt')"
   ]
  },
  {
   "cell_type": "code",
   "execution_count": 20,
   "metadata": {},
   "outputs": [
    {
     "name": "stdout",
     "output_type": "stream",
     "text": [
      "33758it [00:13, 2440.04it/s]\n",
      "50372it [00:26, 1883.25it/s]\n"
     ]
    }
   ],
   "source": [
    "!python train.py"
   ]
  }
 ],
 "metadata": {
  "kernelspec": {
   "display_name": "base",
   "language": "python",
   "name": "python3"
  },
  "language_info": {
   "codemirror_mode": {
    "name": "ipython",
    "version": 3
   },
   "file_extension": ".py",
   "mimetype": "text/x-python",
   "name": "python",
   "nbconvert_exporter": "python",
   "pygments_lexer": "ipython3",
   "version": "3.10.8"
  },
  "orig_nbformat": 4
 },
 "nbformat": 4,
 "nbformat_minor": 2
}
